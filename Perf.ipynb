{
 "cells": [
  {
   "cell_type": "code",
   "execution_count": 1,
   "metadata": {},
   "outputs": [],
   "source": [
    "import matplotlib.pyplot as plt\n",
    "from subprocess import run, PIPE\n",
    "from time import time\n",
    "from math import ceil\n",
    "from pprint import pprint"
   ]
  },
  {
   "cell_type": "code",
   "execution_count": 35,
   "metadata": {},
   "outputs": [],
   "source": [
    "# sieve_sz = 2000\n",
    "sieve_sz = 40000\n",
    "sieve_times_tot = [0 for i in range(14)]\n",
    "sieve_opt_times = [0 for i in range(14)]\n",
    "sieve_run_times = [0 for i in range(14)]\n",
    "\n",
    "fibs_sz = 37\n",
    "# fibs_sz = 25\n",
    "fibs_times_tot = [0 for i in range(14)]\n",
    "fibs_opt_times = [0 for i in range(14)]\n",
    "fibs_run_times = [0 for i in range(14)]\n",
    "\n",
    "# fibs_sz = 45\n",
    "# gcf_sz1 = 6699\n",
    "#gcf_sz2 = 79002\n",
    "gcf_sz1 = 931647717 \n",
    "gcf_sz2 = 8258679\n",
    "gcf_times_tot = [0 for i in range(14)]\n",
    "gcf_opt_times = [0 for i in range(14)]\n",
    "gcf_run_times = [0 for i in range(14)]\n",
    "\n",
    "repetitions = 50\n"
   ]
  },
  {
   "cell_type": "code",
   "execution_count": 36,
   "metadata": {},
   "outputs": [
    {
     "name": "stdout",
     "output_type": "stream",
     "text": [
      "0\n",
      "5\n",
      "10\n",
      "15\n",
      "20\n",
      "25\n",
      "30\n",
      "35\n",
      "40\n",
      "45\n"
     ]
    }
   ],
   "source": [
    "for j in range(repetitions):\n",
    "    if j % 5 == 0:\n",
    "        print(j)\n",
    "    for i in range(14):\n",
    "        \n",
    "        proc = run([\"build/ekcc\", \"-l\" + str(i), \"testfiles/sieve.ek\", str(sieve_sz)], encoding='utf-8', stdout=PIPE)\n",
    "        # print(proc.stdout)\n",
    "        opt_time = float(proc.stdout.split('\\n')[1].split(' ')[2])\n",
    "        exec_time = float(proc.stdout.split('\\n')[4].split(' ')[2])\n",
    "        sieve_times_tot[i] += opt_time + exec_time\n",
    "        sieve_opt_times[i] += opt_time\n",
    "        sieve_run_times[i] += exec_time\n",
    "        \n",
    "        proc = run([\"build/ekcc\", \"-l\" + str(i), \"testfiles/fibs.ek\", str(fibs_sz)], encoding='utf-8', stdout=PIPE)\n",
    "        # print(proc.stdout)\n",
    "        opt_time = float(proc.stdout.split('\\n')[1].split(' ')[2])\n",
    "        exec_time = float(proc.stdout.split('\\n')[4].split(' ')[2])\n",
    "        fibs_times_tot[i] += opt_time + exec_time\n",
    "        fibs_opt_times[i] += opt_time\n",
    "        fibs_run_times[i] += exec_time\n",
    "\n",
    "        proc = run([\"build/ekcc\", \"-l\" + str(i), \"testfiles/gcf.ek\", str(gcf_sz1), str(gcf_sz2)], encoding='utf-8', stdout=PIPE)\n",
    "        # print(proc.stdout)\n",
    "        opt_time = float(proc.stdout.split('\\n')[1].split(' ')[2])\n",
    "        exec_time = float(proc.stdout.split('\\n')[4].split(' ')[2])\n",
    "        gcf_times_tot[i] += opt_time + exec_time\n",
    "        gcf_opt_times[i] += opt_time\n",
    "        gcf_run_times[i] += exec_time\n"
   ]
  },
  {
   "cell_type": "code",
   "execution_count": 37,
   "metadata": {},
   "outputs": [
    {
     "name": "stdout",
     "output_type": "stream",
     "text": [
      "[0.14269830000000003, 0.14186912, 0.12249747999999999, 0.14471804, 0.13892624, 0.10260935999999997, 0.18002607999999998, 0.16364362, 0.14310131999999998, 0.12216783999999997, 0.14479240000000004, 0.14284145999999998, 0.14252241999999998, 0.18222178000000003]\n",
      "[0.14311246, 0.10606780000000005, 0.1180569, 0.14311051999999996, 0.10539730000000005, 0.13505082, 0.11798407999999999, 0.16262601999999998, 0.14297556000000003, 0.1224722, 0.14288792, 0.14320139999999998, 0.14278288000000003, 0.14284730000000004]\n",
      "[0.15617184, 0.15619405999999997, 0.15642857999999998, 0.15632632000000002, 0.15433845999999998, 0.16421872, 0.15711744, 0.16440347999999996, 0.16009443999999998, 0.15718591999999998, 0.15707059999999998, 0.15631288, 0.1565777, 0.14823000000000003]\n"
     ]
    }
   ],
   "source": [
    "for i in range(14):\n",
    "    fibs_times_tot[i] = fibs_times_tot[i] / repetitions\n",
    "    fibs_opt_times[i] = fibs_opt_times[i] / repetitions\n",
    "    fibs_run_times[i] = fibs_run_times[i] / repetitions\n",
    "    \n",
    "    sieve_times_tot[i] = sieve_times_tot[i] / repetitions\n",
    "    sieve_opt_times[i] = sieve_opt_times[i] / repetitions\n",
    "    sieve_run_times[i] = sieve_run_times[i] / repetitions\n",
    "    \n",
    "    gcf_times_tot[i] = gcf_times_tot[i] / repetitions\n",
    "    gcf_opt_times[i] = gcf_opt_times[i] / repetitions\n",
    "    gcf_run_times[i] = gcf_run_times[i] / repetitions\n",
    "    \n",
    "print(sieve_times_tot)\n",
    "print(fibs_times_tot)\n",
    "print(gcf_times_tot)"
   ]
  },
  {
   "cell_type": "code",
   "execution_count": 38,
   "metadata": {},
   "outputs": [
    {
     "data": {
      "image/png": "[encoded data removed]",
      "text/plain": [
       "<Figure size 1296x360 with 1 Axes>"
      ]
     },
     "metadata": {
      "needs_background": "light"
     },
     "output_type": "display_data"
    }
   ],
   "source": [
    "import numpy as np\n",
    "import matplotlib.pyplot as plt\n",
    "\n",
    "\n",
    "N = 14\n",
    "ind = np.arange(N)    # the x locations for the groups\n",
    "width = 0.25       # the width of the bars: can also be len(x) sequence\n",
    "\n",
    "p1 = plt.bar(ind - (width / 1.1), fibs_opt_times, width, bottom=fibs_run_times)\n",
    "p2 = plt.bar(ind - (width / 1.1), fibs_run_times, width)\n",
    "\n",
    "p3 = plt.bar(ind + (width / 1.1), sieve_opt_times, width, bottom=sieve_run_times)\n",
    "p4 = plt.bar(ind + (width / 1.1), sieve_run_times, width)\n",
    "\n",
    "p5 = plt.bar(ind, gcf_opt_times, width, bottom=gcf_run_times)\n",
    "p6 = plt.bar(ind, gcf_run_times, width)\n",
    "\n",
    "plt.xticks(ind, [i for i in range(14)])\n",
    "plt.xlabel('Optimization Set Applied')\n",
    "plt.ylabel('Time (sec)')\n",
    "plt.title(\"Averages for Sieve at \" + str(sieve_sz) + \", GCF at \" + str(gcf_sz1) + \" \" + str(gcf_sz2) +  \" and Fibs at \" + str(fibs_sz))\n",
    "\n",
    "plt.legend((p1[0], p2[0], p3[0], p4[0], p5[0], p6[0]), ('Fibs Optimization Times', 'Fibs Run Times', \n",
    "                                                        \"Sieve Optimization Times\", \"Sieve Run Times\",\n",
    "                                                       \"GCF Optimization Times\", \"GCF Run Times\"))\n",
    "\n",
    "plt.rcParams['figure.figsize'] = [18, 5]\n",
    "\n",
    "\n",
    "plt.show()"
   ]
  },
  {
   "cell_type": "code",
   "execution_count": null,
   "metadata": {},
   "outputs": [],
   "source": []
  }
 ],
 "metadata": {
  "kernelspec": {
   "display_name": "Python 3",
   "language": "python",
   "name": "python3"
  },
  "language_info": {
   "codemirror_mode": {
    "name": "ipython",
    "version": 3
   },
   "file_extension": ".py",
   "mimetype": "text/x-python",
   "name": "python",
   "nbconvert_exporter": "python",
   "pygments_lexer": "ipython3",
   "version": "3.7.1"
  }
 },
 "nbformat": 4,
 "nbformat_minor": 2
}
